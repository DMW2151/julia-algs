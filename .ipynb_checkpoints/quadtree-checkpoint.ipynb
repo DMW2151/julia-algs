{
 "cells": [
  {
   "cell_type": "markdown",
   "metadata": {},
   "source": [
    "## Learning Julia 1.0 - Implement Quad-Trees in Julia\n",
    "Work towards an efficient, geo-spatially aware version. Adapted from [GeeksForGeeks](https://www.geeksforgeeks.org/quad-tree/) datatype deesctiption and [Wikipedia](https://en.wikipedia.org/wiki/Quadtree#Pseudocode)"
   ]
  },
  {
   "cell_type": "code",
   "execution_count": null,
   "metadata": {},
   "outputs": [],
   "source": [
    "using BenchmarkTools\n",
    "\n",
    "# Struct && Type Definitions\n",
    "const QT_NODE_CAPACITY = 1;\n",
    "\n",
    "\"Catchall AbstractType for 2D shapes w. 4 corners\"\n",
    "abstract type AbstractBox end\n",
    "\n",
    "\n",
    "# TODO?: Generate Hash/ID for Coordinate\n",
    "\"Points to Query\"\n",
    "struct Coord\n",
    "    lng :: Float64\n",
    "    lat :: Float64\n",
    "end\n",
    "\n",
    "\n",
    "\"Box; used for search on qtBox, shape diagonal defined by \n",
    "`SW`, the Southwest-corner, and (SW.x + sideLength, SW.y + sideLength)\"\n",
    "struct Box <: AbstractBox\n",
    "    SW :: Coord\n",
    "    sideLength :: Float64\n",
    "end \n",
    "\n",
    "\"Same as Box; Adds references to set of points and set of children qtBoxes\"\n",
    "mutable struct qtBox <: AbstractBox\n",
    "    # TODO: Adapt coords to map onto surface of sphere coordinates\n",
    "    # TODO: ID & sum(children)\n",
    "    SW :: Coord\n",
    "    sideLength :: Float64 # sideLength > 0 \n",
    "    children :: Array{qtBox}\n",
    "    points :: Array{Coord} \n",
    "end \n",
    "\n",
    "\n",
    "\"Check if Point in a 2D Space\"\n",
    "function checkPoint(p::Coord, region::AbstractBox)::Bool\n",
    "    return (\n",
    "        (p.lng > region.SW.lng) & (p.lng < region.SW.lng + region.sideLength) &&\n",
    "        (p.lat > region.SW.lat) & (p.lat < region.SW.lat + region.sideLength)\n",
    "    )\n",
    "    end\n",
    "\n",
    "\"Inplace split qtBox into 4 equal parts\"\n",
    "function subdivide!(r::qtBox)\n",
    "    if (!isassigned(r.children)) #if not yet subdivided\n",
    "        nodeDelta = r.sideLength / 2\n",
    "        \n",
    "        # Add each of the children to Array...\n",
    "        append!(r.children, Array([\n",
    "            qtBox(r.SW, nodeDelta, Array(qtBox[]),  Array(Coord[])), # S.W Child (+0, +0)\n",
    "            qtBox(Coord(r.SW.lng + nodeDelta, r.SW.lat), nodeDelta, Array(qtBox[]),  Array(Coord[])), # S.E Child (+1 , +0),\n",
    "            qtBox(Coord(r.SW.lng + nodeDelta, r.SW.lat + nodeDelta), nodeDelta, Array(qtBox[]),  Array(Coord[])), # N.E child (+1, +1)\n",
    "            qtBox(Coord(r.SW.lng, r.SW.lat + nodeDelta), nodeDelta, Array(qtBox[]),  Array(Coord[])) #N.W child (+0, +1)\n",
    "            ])\n",
    "        )\n",
    "        end \n",
    "    end "
   ]
  },
  {
   "cell_type": "code",
   "execution_count": null,
   "metadata": {},
   "outputs": [],
   "source": [
    "\"See Wikipedia Description, recursivly insert points into range on a `qtBox`\"\n",
    "function insertIntoQuadTree!(r::qtBox, ps::Coord)::Bool        \n",
    "        \n",
    "    # Handle Insert Logic if point is in range of current box\n",
    "    if !checkPoint(ps, r)\n",
    "        return false\n",
    "    end\n",
    "\n",
    "    # Current box has room && Not subcivided \n",
    "    if (length(r.points) < QT_NODE_CAPACITY) && (!isassigned(r.children))\n",
    "        push!(r.points, ps)\n",
    "        return true\n",
    "    end\n",
    "\n",
    "    if (!isassigned(r.children)) #subdivide if is not subdiv'd yet\n",
    "        subdivide!(r)\n",
    "    end\n",
    "    \n",
    "    for c in r.children  #Check to see if we can insert into any children\n",
    "        if insertIntoQuadTree!(c, ps)\n",
    "            return true\n",
    "        end\n",
    "    end\n",
    "    \n",
    "    return false #Fatal\n",
    "end"
   ]
  },
  {
   "cell_type": "code",
   "execution_count": 1,
   "metadata": {},
   "outputs": [
    {
     "data": {
      "text/plain": [
       "generateRandUniform"
      ]
     },
     "execution_count": 1,
     "metadata": {},
     "output_type": "execute_result"
    }
   ],
   "source": [
    "\"Check if `AbstractBox` shapes Intersect\"\n",
    "function regionOverlap(s0::AbstractBox, s1::AbstractBox)::Bool\n",
    "    # If one rectangle is on left side of other \n",
    "    # OR If one rectangle is above other\n",
    "    if (\n",
    "        (s0.SW.lng > (s1.SW.lng + s1.sideLength)) ||\n",
    "        (s1.SW.lng > (s0.SW.lng + s0.sideLength)) || \n",
    "        (s0.SW.lat > (s1.SW.lat + s1.sideLength)) || \n",
    "        (s1.SW.lat > (s0.SW.lat + s0.sideLength))\n",
    "        )\n",
    "        return false\n",
    "    else \n",
    "        return true\n",
    "    end\n",
    "end\n",
    "\n",
    "\n",
    "\"See Wikipedia Description, recursivly query a range on a `qtBox`\"\n",
    "function queryRange(r::qtBox, qryBox::AbstractBox)::Array{Coord}\n",
    "\n",
    "    # Initialize return list\n",
    "    pointsInRange = Array{Coord}(Array[])\n",
    "    \n",
    "    # Automatically abort if the range does not intersect this quad\n",
    "    if !regionOverlap(r, qryBox)\n",
    "        return Array{Coord}(Array[])\n",
    "    end\n",
    "\n",
    "    # Check objects overlap at this quad level..\n",
    "    for p in r.points\n",
    "        if checkPoint(p, qryBox)\n",
    "            push!(pointsInRange, p)\n",
    "        end\n",
    "    end \n",
    "    \n",
    "    # Terminate here, if there are no children\n",
    "    if !isassigned(r.children)\n",
    "        return pointsInRange;\n",
    "    else \n",
    "        ## Otherwise, add the points from the children\n",
    "        for c in r.children\n",
    "            append!(pointsInRange, queryRange(c, qryBox))\n",
    "        end\n",
    "    end\n",
    "    \n",
    "    return pointsInRange\n",
    "end\n",
    "\n",
    "\n",
    "\"\"\"\n",
    "Generate uniform random points along a surface\n",
    "e.g. generateRandUniform(0., 10., 0., 10., 1) -> Array{Float64,2}:  2.19137  1.57839\n",
    "\"\"\"\n",
    "function generateRandUniform(x0::Float64, x1::Float64, y0::Float64, y1::Float64, n::Int)::Array{Coord}\n",
    "    X = ((ones(n) * x0) + (rand(n) * (x1 - x0))) \n",
    "    Y = ((ones(n) * y0) + (rand(n) * (y1 - y0)))\n",
    "    return [Coord(x, y) for (x,y) in zip(X,Y)]\n",
    "end"
   ]
  },
  {
   "cell_type": "code",
   "execution_count": 3,
   "metadata": {},
   "outputs": [
    {
     "data": {
      "text/plain": [
       "findbyCoords"
      ]
     },
     "execution_count": 3,
     "metadata": {},
     "output_type": "execute_result"
    }
   ],
   "source": [
    "\"\"\"Doc\"\"\"\n",
    "function findbyCoords(r::qtBox, t::Coord)::Bool\n",
    "    \n",
    "    if !checkPoint(t, r) # Throws out if outside of parent\n",
    "        return false\n",
    "    end\n",
    "    \n",
    "    # search the space...\n",
    "    if partialCoordComp(r.points, t) # if in parent, return true\n",
    "        return true\n",
    "    end\n",
    "    \n",
    "    if (isassigned(r.children)) # If no kids, must be in this node, fail\n",
    "        for c in r.children\n",
    "            if findbyCoords(c, t)\n",
    "                return true\n",
    "            end\n",
    "        end\n",
    "    end\n",
    "    return false \n",
    "end"
   ]
  },
  {
   "cell_type": "code",
   "execution_count": 31,
   "metadata": {},
   "outputs": [
    {
     "data": {
      "text/plain": [
       "partialCoordComp"
      ]
     },
     "execution_count": 31,
     "metadata": {},
     "output_type": "execute_result"
    }
   ],
   "source": [
    "\"\"\"Doc\"\"\"\n",
    "function removeNode!(r::qtBox, t::Coord)\n",
    "    end\n",
    "\n",
    "\n",
    "getLocation = x -> (x.lat, x.lng)\n",
    "\n",
    "\"\"\"Doc\"\"\"\n",
    "function partialCoordComp(ps::Array{Coord}, t::Coord)::Bool\n",
    "    return getLocation(t) in map(getLocation, ps)\n",
    "end"
   ]
  },
  {
   "cell_type": "markdown",
   "metadata": {},
   "source": [
    "## Appendix + Notes\n",
    "---------------------------------------------------------------------------"
   ]
  },
  {
   "cell_type": "markdown",
   "metadata": {},
   "source": [
    "## Best Implementation - Creation and Query Statistics - 50,000 points\n",
    "\n",
    "Sure these'll come down as this all makes more sense to me.\n",
    "\n",
    "- **04-10-2010**\n",
    "    Cutdown query memory allocation 4x using `!isassigned(r.children)` vs `length(r.children) == 0`"
   ]
  },
  {
   "cell_type": "code",
   "execution_count": 30,
   "metadata": {},
   "outputs": [
    {
     "name": "stdout",
     "output_type": "stream",
     "text": [
      "  0.102610 seconds (742.01 k allocations: 46.853 MiB, 12.46% gc time)\n"
     ]
    }
   ],
   "source": [
    "## Inserts - Tree Build\n",
    "const QT_TEST_SIZE=50000\n",
    "\n",
    "ps = generateRandUniform(0., 1., 0., 1., QT_TEST_SIZE)\n",
    "\n",
    "sampleQTree = qtBox(Coord(0., 0.), 1., Array(qtBox[]),  Array(Coord[]))\n",
    "\n",
    "@time for p in ps insertIntoQuadTree!(sampleQTree, p) end"
   ]
  },
  {
   "cell_type": "code",
   "execution_count": 24,
   "metadata": {},
   "outputs": [
    {
     "data": {
      "text/plain": [
       "BenchmarkTools.Trial: \n",
       "  memory estimate:  1.36 MiB\n",
       "  allocs estimate:  14111\n",
       "  --------------\n",
       "  minimum time:     805.605 μs (0.00% GC)\n",
       "  median time:      913.121 μs (0.00% GC)\n",
       "  mean time:        1.135 ms (12.23% GC)\n",
       "  maximum time:     7.693 ms (80.94% GC)\n",
       "  --------------\n",
       "  samples:          4393\n",
       "  evals/sample:     1"
      ]
     },
     "execution_count": 24,
     "metadata": {},
     "output_type": "execute_result"
    }
   ],
   "source": [
    "## Query Square Region\n",
    "searchRegion = Box(Coord(.6, .6 ), .2)\n",
    "@benchmark res = queryRange(sampleQTree, searchRegion)"
   ]
  },
  {
   "cell_type": "code",
   "execution_count": 25,
   "metadata": {},
   "outputs": [
    {
     "data": {
      "text/plain": [
       "BenchmarkTools.Trial: \n",
       "  memory estimate:  1.46 KiB\n",
       "  allocs estimate:  36\n",
       "  --------------\n",
       "  minimum time:     3.321 μs (0.00% GC)\n",
       "  median time:      4.613 μs (0.00% GC)\n",
       "  mean time:        4.996 μs (2.05% GC)\n",
       "  maximum time:     533.544 μs (98.99% GC)\n",
       "  --------------\n",
       "  samples:          10000\n",
       "  evals/sample:     7"
      ]
     },
     "execution_count": 25,
     "metadata": {},
     "output_type": "execute_result"
    }
   ],
   "source": [
    "## Find in Tree Square Region\n",
    "@benchmark findbyCoords(sampleQTree, ps[Int(floor(rand() * QT_TEST_SIZE) + 1)])"
   ]
  }
 ],
 "metadata": {
  "kernelspec": {
   "display_name": "Julia 1.4.0",
   "language": "julia",
   "name": "julia-1.4"
  },
  "language_info": {
   "file_extension": ".jl",
   "mimetype": "application/julia",
   "name": "julia",
   "version": "1.4.0"
  }
 },
 "nbformat": 4,
 "nbformat_minor": 2
}
