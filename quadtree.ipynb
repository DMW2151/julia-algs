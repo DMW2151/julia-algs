{
 "cells": [
  {
   "cell_type": "markdown",
   "metadata": {},
   "source": [
    "#  Usage/Benchmark Tests\n",
    "-------------------\n"
   ]
  },
  {
   "cell_type": "code",
   "execution_count": 6,
   "metadata": {},
   "outputs": [],
   "source": [
    "# Load Params \n",
    "using BenchmarkTools\n",
    "push!(LOAD_PATH, \"$(pwd())/src\"); using DarkWingDuck;\n",
    "const dwd = DarkWingDuck;"
   ]
  },
  {
   "cell_type": "code",
   "execution_count": 20,
   "metadata": {},
   "outputs": [
    {
     "name": "stdout",
     "output_type": "stream",
     "text": [
      "  2.340458 seconds (24.43 M allocations: 795.519 MiB, 27.85% gc time)\n"
     ]
    },
    {
     "name": "stderr",
     "output_type": "stream",
     "text": [
      "WARNING: redefining constant QT_TEST_SIZE\n"
     ]
    }
   ],
   "source": [
    "const QT_TEST_SIZE, RM_TEST_SIZE = 1_000_000, 1_000\n",
    "\n",
    "## Inserts - Tree Build\n",
    "ps = dwd.genRandomCoords(0., 1., 0., 1., QT_TEST_SIZE);\n",
    "\n",
    "#TODO: constructor should take anyFloat\n",
    "sampleQTree = dwd.qtBox(dwd.Coord(.0, .0), 1.)\n",
    "\n",
    "@time (for p in ps dwd.insertIntoQuadTree!(sampleQTree, p) end)"
   ]
  },
  {
   "cell_type": "code",
   "execution_count": 21,
   "metadata": {},
   "outputs": [
    {
     "name": "stdout",
     "output_type": "stream",
     "text": [
      "Total Obj Size: 44.367784 MB\n"
     ]
    }
   ],
   "source": [
    "println(\"Total Obj Size: $(Base.summarysize(sampleQTree) / 1000000 ) MB\")"
   ]
  },
  {
   "cell_type": "code",
   "execution_count": 22,
   "metadata": {},
   "outputs": [
    {
     "data": {
      "text/plain": [
       "BenchmarkTools.Trial: \n",
       "  memory estimate:  10.16 KiB\n",
       "  allocs estimate:  202\n",
       "  --------------\n",
       "  minimum time:     11.787 μs (0.00% GC)\n",
       "  median time:      7.139 ms (0.00% GC)\n",
       "  mean time:        13.481 ms (12.10% GC)\n",
       "  maximum time:     76.144 ms (11.36% GC)\n",
       "  --------------\n",
       "  samples:          370\n",
       "  evals/sample:     1"
      ]
     },
     "execution_count": 22,
     "metadata": {},
     "output_type": "execute_result"
    }
   ],
   "source": [
    "@benchmark dwd.queryRange(sampleQTree, dwd.Box(dwd.Coord(rand() , rand()), rand()/2))"
   ]
  },
  {
   "cell_type": "code",
   "execution_count": 15,
   "metadata": {},
   "outputs": [
    {
     "data": {
      "text/plain": [
       "BenchmarkTools.Trial: \n",
       "  memory estimate:  2.66 MiB\n",
       "  allocs estimate:  10665\n",
       "  --------------\n",
       "  minimum time:     1.092 ms (0.00% GC)\n",
       "  median time:      1.405 ms (0.00% GC)\n",
       "  mean time:        1.612 ms (9.90% GC)\n",
       "  maximum time:     5.611 ms (60.55% GC)\n",
       "  --------------\n",
       "  samples:          3094\n",
       "  evals/sample:     1"
      ]
     },
     "execution_count": 15,
     "metadata": {},
     "output_type": "execute_result"
    }
   ],
   "source": [
    "#Test in kilometers, 5km ~0.045 on a flat plane\n",
    "@benchmark dwd.radialSearch(sampleQTree, dwd.Coord(rand(), rand()), Float32(5.))"
   ]
  },
  {
   "cell_type": "code",
   "execution_count": 16,
   "metadata": {},
   "outputs": [
    {
     "name": "stdout",
     "output_type": "stream",
     "text": [
      "  0.059447 seconds (186.40 k allocations: 9.621 MiB)\n"
     ]
    }
   ],
   "source": [
    "# Oyy...function modifies the structure, use @time instead of benchmark\n",
    "@time (for i in 1:RM_TEST_SIZE dwd.removePoint!(sampleQTree, ps[rand(1:QT_TEST_SIZE)]) end)"
   ]
  },
  {
   "cell_type": "code",
   "execution_count": 17,
   "metadata": {},
   "outputs": [
    {
     "name": "stdout",
     "output_type": "stream",
     "text": [
      "Total Obj Size: 0.36532 MB\n",
      "Total Point Count: 9034\n"
     ]
    }
   ],
   "source": [
    "println(\"Total Obj Size: $(Base.summarysize(sampleQTree) / 1000000 ) MB\")\n",
    "println(\"Total Point Count: $(length(dwd.queryRange(sampleQTree, dwd.Box(dwd.Coord(0. , 0.), 1))))\")"
   ]
  },
  {
   "cell_type": "code",
   "execution_count": 18,
   "metadata": {},
   "outputs": [
    {
     "name": "stdout",
     "output_type": "stream",
     "text": [
      "  0.034358 seconds (63.18 k allocations: 3.268 MiB)\n"
     ]
    },
    {
     "data": {
      "text/plain": [
       "true"
      ]
     },
     "execution_count": 18,
     "metadata": {},
     "output_type": "execute_result"
    }
   ],
   "source": [
    "@time dwd.cleanUpQTree(sampleQTree)"
   ]
  },
  {
   "cell_type": "code",
   "execution_count": 19,
   "metadata": {},
   "outputs": [
    {
     "name": "stdout",
     "output_type": "stream",
     "text": [
      "Total Obj Size: 0.362536 MB\n",
      "Total Point Count: 9034\n"
     ]
    }
   ],
   "source": [
    "println(\"Total Obj Size: $(Base.summarysize(sampleQTree) / 1000000 ) MB\")\n",
    "println(\"Total Point Count: $(length(dwd.queryRange(sampleQTree, dwd.Box(dwd.Coord(0. , 0.), 1))))\")"
   ]
  }
 ],
 "metadata": {
  "kernelspec": {
   "display_name": "Julia 1.4.0",
   "language": "julia",
   "name": "julia-1.4"
  },
  "language_info": {
   "file_extension": ".jl",
   "mimetype": "application/julia",
   "name": "julia",
   "version": "1.4.0"
  }
 },
 "nbformat": 4,
 "nbformat_minor": 2
}
