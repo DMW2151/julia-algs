{
 "cells": [
  {
   "cell_type": "markdown",
   "metadata": {},
   "source": [
    "## Learning Julia 1.0 - Implement Quad-Trees in Julia\n",
    "Work towards an efficient, geo-spatially aware version. Adapted from GeeksForGeeks datatype deesctiption [here](https://www.geeksforgeeks.org/quad-tree/) and [Wikipedia](https://en.wikipedia.org/wiki/Quadtree#Pseudocode)"
   ]
  },
  {
   "cell_type": "code",
   "execution_count": null,
   "metadata": {},
   "outputs": [],
   "source": [
    "using BenchmarkTools"
   ]
  },
  {
   "cell_type": "code",
   "execution_count": 1,
   "metadata": {},
   "outputs": [],
   "source": [
    "# Struct && Type Definitions\n",
    "QT_NODE_CAPACITY = 1;\n",
    "\n",
    "\"Catchall AbstractType for 2D shapes w. 4 corners\"\n",
    "abstract type AbstractBox end\n",
    "\n",
    "\"Points to Query\"\n",
    "struct Coord\n",
    "    lng :: Float64\n",
    "    lat :: Float64\n",
    "end\n",
    "\n",
    "\"Box; used for search on qtBox, shape diagonal defined by \n",
    "`SW`, the Southwest-corner, and (SW.x + sideLength, SW.y + sideLength)\"\n",
    "struct Box <: AbstractBox\n",
    "    SW :: Coord\n",
    "    sideLength :: Float64\n",
    "end \n",
    "\n",
    "\n",
    "\"Same as Box; Adds references to set of points and set of children qtBoxes\"\n",
    "mutable struct qtBox <: AbstractBox\n",
    "    # TODO: Adapt coords to map onto surface of sphere coordinates\n",
    "    SW :: Coord\n",
    "    sideLength :: Float64\n",
    "    children :: Array{qtBox} # No Pointers :( ?\n",
    "    points:: Array{Coord}\n",
    "end "
   ]
  },
  {
   "cell_type": "code",
   "execution_count": 2,
   "metadata": {},
   "outputs": [
    {
     "data": {
      "text/plain": [
       "subdivide! (generic function with 1 method)"
      ]
     },
     "execution_count": 2,
     "metadata": {},
     "output_type": "execute_result"
    }
   ],
   "source": [
    "\"Check if Point in a 2D Space\"\n",
    "function checkPoint(p::Coord, region::AbstractBox)::Bool\n",
    "    return (\n",
    "        (p.lng > region.SW.lng) & (p.lng < region.SW.lng + region.sideLength) &&\n",
    "        (p.lat > region.SW.lat) & (p.lat < region.SW.lat + region.sideLength)\n",
    "    )\n",
    "    end\n",
    "\n",
    "\"Check if `AbstractBox` shapes Intersect\"\n",
    "function regionOverlap(s0::AbstractBox, s1::AbstractBox)::Bool\n",
    "    # If one rectangle is on left side of other \n",
    "    # OR If one rectangle is above other\n",
    "    if (\n",
    "        (s0.SW.lng > (s1.SW.lng + s1.sideLength)) ||\n",
    "        (s1.SW.lng > (s0.SW.lng + s0.sideLength)) || \n",
    "        (s0.SW.lat > (s1.SW.lat + s1.sideLength)) || \n",
    "        (s1.SW.lat > (s0.SW.lat + s0.sideLength))\n",
    "        )\n",
    "        return false\n",
    "    else \n",
    "        return true\n",
    "    end\n",
    "end\n",
    "\n",
    "\n",
    "\"Inplace split qtBox into 4 equal parts\"\n",
    "function subdivide!(r::qtBox)\n",
    "    if (length(r.children) == 0) #if not yet subdivided\n",
    "        nodeDelta = r.sideLength / 2\n",
    "        \n",
    "        # Add each of the children to Array...\n",
    "        \n",
    "        append!(r.children, \n",
    "            Array([\n",
    "             # S.W Child (+0, +0)\n",
    "            qtBox(r.SW, nodeDelta, Array(qtBox[]),  Array(Coord[])),\n",
    "            \n",
    "            # S.E Child (+1 , +0)\n",
    "            qtBox(Coord(r.SW.lng + nodeDelta, r.SW.lat),\n",
    "                nodeDelta , Array(qtBox[]),  Array(Coord[])),\n",
    "            \n",
    "            #N.E child (+1, +1)\n",
    "            qtBox(Coord(r.SW.lng + nodeDelta, r.SW.lat + nodeDelta),\n",
    "                nodeDelta , Array(qtBox[]),  Array(Coord[])),\n",
    "                \n",
    "            #N.W child (+0, +1)\n",
    "            qtBox(Coord(r.SW.lng , r.SW.lat + nodeDelta),\n",
    "                nodeDelta , Array(qtBox[]),  Array(Coord[]))\n",
    "            ])\n",
    "        )\n",
    "        end \n",
    "    end "
   ]
  },
  {
   "cell_type": "code",
   "execution_count": 3,
   "metadata": {},
   "outputs": [
    {
     "data": {
      "text/plain": [
       "generateRandUniform"
      ]
     },
     "execution_count": 3,
     "metadata": {},
     "output_type": "execute_result"
    }
   ],
   "source": [
    "#= Random Point Generation/Benchmarking/Testing=#\n",
    "\"\"\"\n",
    "Generate uniform random points along a surface\n",
    "e.g. generateRandUniform(0., 10., 0., 10., 1) -> Array{Float64,2}:  2.19137  1.57839\n",
    "\"\"\"\n",
    "function generateRandUniform(x0::Float64, x1::Float64, y0::Float64, y1::Float64, n::Int)::Array{Coord}\n",
    "    X = ((ones(n) * x0) + (rand(n) * (x1 - x0))) \n",
    "    Y = ((ones(n) * y0) + (rand(n) * (y1 - y0)))\n",
    "    return [Coord(x, y) for (x,y) in zip(X,Y)]\n",
    "end"
   ]
  },
  {
   "cell_type": "code",
   "execution_count": 4,
   "metadata": {},
   "outputs": [
    {
     "data": {
      "text/plain": [
       "queryRange (generic function with 1 method)"
      ]
     },
     "execution_count": 4,
     "metadata": {},
     "output_type": "execute_result"
    }
   ],
   "source": [
    "\"See Wikipedia Description, recursivly query a range on a `qtBox`\"\n",
    "function queryRange(r::qtBox, qryBox::AbstractBox)::Array{Coord}\n",
    "\n",
    "    # Initialize return list\n",
    "    pointsInRange = Array{Coord}(Array[])\n",
    "    \n",
    "    # Automatically abort if the range does not intersect this quad\n",
    "    if !regionOverlap(r, qryBox)\n",
    "        return Array{Coord}(Array[])\n",
    "    end\n",
    "\n",
    "    # Check objects overlap at this quad level..\n",
    "    for p in r.points\n",
    "        if checkPoint(p, qryBox)\n",
    "            push!(pointsInRange, p)\n",
    "        end\n",
    "    end \n",
    "    \n",
    "    # Terminate here, if there are no children\n",
    "    if length(r.children) == 0\n",
    "        return pointsInRange;\n",
    "    else \n",
    "        ## Otherwise, add the points from the children\n",
    "        for c in r.children\n",
    "            append!(pointsInRange, queryRange(c, qryBox))\n",
    "        end\n",
    "    end\n",
    "    \n",
    "    return pointsInRange\n",
    "end"
   ]
  },
  {
   "cell_type": "code",
   "execution_count": 5,
   "metadata": {},
   "outputs": [
    {
     "data": {
      "text/plain": [
       "insertIntoQuadTree! (generic function with 1 method)"
      ]
     },
     "execution_count": 5,
     "metadata": {},
     "output_type": "execute_result"
    }
   ],
   "source": [
    "\"See Wikipedia Description, recursivly insert points into range on a `qtBox`\"\n",
    "function insertIntoQuadTree!(r::qtBox, ps::Coord)::Bool        \n",
    "    # Handle Insert Logic if point is in range of current box\n",
    "    if !checkPoint(ps, r)\n",
    "        return false\n",
    "    end\n",
    "\n",
    "    # Current box has room && Not subcivided \n",
    "    if (length(r.points) < QT_NODE_CAPACITY) && (length(r.children) == 0)\n",
    "        push!(r.points, ps)\n",
    "        return true\n",
    "    end\n",
    "\n",
    "    if (length(r.children) == 0) #subdivide if is not subdiv'd yet\n",
    "        subdivide!(r)\n",
    "    end\n",
    "    \n",
    "    for c in r.children  #Check to see if we can insert into any children\n",
    "        if insertIntoQuadTree!(c, ps)\n",
    "            return true\n",
    "        end\n",
    "    end\n",
    "    \n",
    "    return false #Fatal\n",
    "end"
   ]
  },
  {
   "cell_type": "code",
   "execution_count": 8,
   "metadata": {},
   "outputs": [
    {
     "data": {
      "text/plain": [
       "BenchmarkTools.Trial: \n",
       "  memory estimate:  382.66 KiB\n",
       "  allocs estimate:  14490\n",
       "  --------------\n",
       "  minimum time:     80.727 ms (0.00% GC)\n",
       "  median time:      84.970 ms (0.00% GC)\n",
       "  mean time:        84.971 ms (0.00% GC)\n",
       "  maximum time:     88.393 ms (0.00% GC)\n",
       "  --------------\n",
       "  samples:          59\n",
       "  evals/sample:     1"
      ]
     },
     "execution_count": 8,
     "metadata": {},
     "output_type": "execute_result"
    }
   ],
   "source": [
    "# Generate Test Set\n",
    "ps = generateRandUniform(0., 1., 0., 1., 5000)\n",
    "r = qtBox(Coord(0, 0), 1, Array(qtBox[]), Array(Coord[]))\n",
    "\n",
    "\n",
    "# Insert\n",
    "@benchmark (for p in ps insertIntoQuadTree!(r, p) end);\n",
    "\n",
    "# Sample Query\n",
    "searchRegion = Box(Coord(rand(), rand()), rand())\n",
    "@benchmark res = queryRange(r, searchRegion);"
   ]
  },
  {
   "cell_type": "markdown",
   "metadata": {},
   "source": [
    "For posterity's sake...sure these'll come down as this all makes more sense to me...\n",
    "\n",
    "\n",
    "**Insert 5k obj**\n",
    "```\n",
    "BenchmarkTools.Trial: \n",
    "  memory estimate:  382.66 KiB\n",
    "  allocs estimate:  14490\n",
    "  --------------\n",
    "  minimum time:     80.727 ms (0.00% GC)\n",
    "  median time:      84.970 ms (0.00% GC)\n",
    "  mean time:        84.971 ms (0.00% GC)\n",
    "  maximum time:     88.393 ms (0.00% GC)\n",
    "  --------------\n",
    "  samples:          59\n",
    "  evals/sample:     1\n",
    "```\n",
    "**Query:**\n",
    "```\n",
    "BenchmarkTools.Trial: \n",
    "  memory estimate:  31.82 MiB\n",
    "  allocs estimate:  270203 \n",
    "  --------------\n",
    "  minimum time:     30.568 ms (0.00% GC)\n",
    "  median time:      35.957 ms (0.00% GC)\n",
    "  mean time:        40.934 ms (13.83% GC)\n",
    "  maximum time:     65.053 ms (32.57% GC)\n",
    "  --------------\n",
    "  samples:          123\n",
    "  evals/sample:     1\n",
    "```"
   ]
  }
 ],
 "metadata": {
  "kernelspec": {
   "display_name": "Julia 1.4.0",
   "language": "julia",
   "name": "julia-1.4"
  },
  "language_info": {
   "file_extension": ".jl",
   "mimetype": "application/julia",
   "name": "julia",
   "version": "1.4.0"
  }
 },
 "nbformat": 4,
 "nbformat_minor": 2
}
