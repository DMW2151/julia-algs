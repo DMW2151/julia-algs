{
 "cells": [
  {
   "cell_type": "code",
   "execution_count": 22,
   "metadata": {},
   "outputs": [],
   "source": [
    "# Load Params\n",
    "push!(LOAD_PATH, pwd())\n",
    "\n",
    "using BenchmarkTools\n",
    "using DarkWingDuck"
   ]
  },
  {
   "cell_type": "markdown",
   "metadata": {},
   "source": [
    "### Benchmark Creation and Query Statistics - 500,000 points \n",
    "- Insert Test: Insert 500,000 random points on ((0, 1), (0, 1))\n",
    "- Object Size: \n",
    "- Box Search: Query bounding box w. SW corner on ((0, 1), (0, 1)) with sideLength (0, 0.5)\n",
    "- Radial Search: Query circle w. center on ((0, 1), (0, 1)) and radius of 5,000m (~0.045 in cartesian plane)"
   ]
  },
  {
   "cell_type": "code",
   "execution_count": 20,
   "metadata": {},
   "outputs": [
    {
     "data": {
      "text/plain": [
       "generateRandUniform"
      ]
     },
     "execution_count": 20,
     "metadata": {},
     "output_type": "execute_result"
    }
   ],
   "source": [
    "\"\"\"Generate uniform random points along a surface\"\"\"\n",
    "function genRandomCoords(x0::Float64, x1::Float64, y0::Float64, y1::Float64, n::Int)::Array{DarkWingDuck.Coord}\n",
    "    X = ((ones(n) * x0) + (rand(n) * (x1 - x0))) \n",
    "    Y = ((ones(n) * y0) + (rand(n) * (y1 - y0)))\n",
    "    return [DarkWingDuck.Coord(x, y) for (x,y) in zip(X,Y)]\n",
    "end"
   ]
  },
  {
   "cell_type": "code",
   "execution_count": 14,
   "metadata": {},
   "outputs": [
    {
     "name": "stdout",
     "output_type": "stream",
     "text": [
      "  1.107086 seconds (12.58 M allocations: 410.189 MiB, 24.98% gc time)\n"
     ]
    }
   ],
   "source": [
    "const QT_TEST_SIZE, QT_TEST_RM_SIZE = 4, 500_000, 100_000\n",
    "\n",
    "## Inserts - Tree Build\n",
    "ps = genRandomCoords(0., 1., 0., 1., QT_TEST_SIZE);\n",
    "\n",
    "#TODO: constructor should take anyFloat\n",
    "sampleQTree = DarkWingDuck.qtBox(DarkWingDuck.Coord(Float32(0.), Float32(0.)), Float32(1.))\n",
    "\n",
    "@time for p in ps \n",
    "    DarkWingDuck.insertIntoQuadTree!(sampleQTree, p) \n",
    "end"
   ]
  },
  {
   "cell_type": "code",
   "execution_count": 15,
   "metadata": {},
   "outputs": [
    {
     "data": {
      "text/plain": [
       "\"Total Obj Size: 26.157864 MB\""
      ]
     },
     "execution_count": 15,
     "metadata": {},
     "output_type": "execute_result"
    }
   ],
   "source": [
    "\"Total Obj Size: $(Base.summarysize(sampleQTree) / 1000000 ) MB\""
   ]
  },
  {
   "cell_type": "code",
   "execution_count": 17,
   "metadata": {},
   "outputs": [
    {
     "data": {
      "text/plain": [
       "BenchmarkTools.Trial: \n",
       "  memory estimate:  8.09 KiB\n",
       "  allocs estimate:  148\n",
       "  --------------\n",
       "  minimum time:     9.703 μs (0.00% GC)\n",
       "  median time:      4.017 ms (0.00% GC)\n",
       "  mean time:        6.928 ms (7.44% GC)\n",
       "  maximum time:     42.451 ms (11.15% GC)\n",
       "  --------------\n",
       "  samples:          720\n",
       "  evals/sample:     1"
      ]
     },
     "execution_count": 17,
     "metadata": {},
     "output_type": "execute_result"
    }
   ],
   "source": [
    "@benchmark DarkWingDuck.queryRange(sampleQTree, DarkWingDuck.Box(DarkWingDuck.Coord(rand() , rand()), rand()/2))"
   ]
  },
  {
   "cell_type": "code",
   "execution_count": 16,
   "metadata": {},
   "outputs": [
    {
     "data": {
      "text/plain": [
       "BenchmarkTools.Trial: \n",
       "  memory estimate:  138.21 MiB\n",
       "  allocs estimate:  1180816\n",
       "  --------------\n",
       "  minimum time:     126.227 ms (4.61% GC)\n",
       "  median time:      131.744 ms (6.61% GC)\n",
       "  mean time:        135.798 ms (9.15% GC)\n",
       "  maximum time:     233.347 ms (44.77% GC)\n",
       "  --------------\n",
       "  samples:          37\n",
       "  evals/sample:     1"
      ]
     },
     "execution_count": 16,
     "metadata": {},
     "output_type": "execute_result"
    }
   ],
   "source": [
    "#Test in kilometers, 5km ~0.045 on a flat plane\n",
    "@benchmark DarkWingDuck.radialSearch(sampleQTree, DarkWingDuck.Coord(rand(), rand()), 5.) "
   ]
  },
  {
   "cell_type": "code",
   "execution_count": 19,
   "metadata": {},
   "outputs": [
    {
     "data": {
      "text/plain": [
       "BenchmarkTools.Trial: \n",
       "  memory estimate:  885.88 MiB\n",
       "  allocs estimate:  28973008\n",
       "  --------------\n",
       "  minimum time:     2.404 s (3.40% GC)\n",
       "  median time:      2.415 s (3.47% GC)\n",
       "  mean time:        2.426 s (3.43% GC)\n",
       "  maximum time:     2.459 s (3.42% GC)\n",
       "  --------------\n",
       "  samples:          3\n",
       "  evals/sample:     1"
      ]
     },
     "execution_count": 19,
     "metadata": {},
     "output_type": "execute_result"
    }
   ],
   "source": [
    "# Oyy, Benchmarking function!() is pretty expensive, but passing Modify == false is ~3-4x quicker\n",
    "removeCoords = ps[map(x -> Int64(floor(x + 1)), rand(QT_TEST_RM_SIZE) * QT_TEST_RM_SIZE)]\n",
    "\n",
    "@benchmark for rmc in removeCoords \n",
    "    DarkWingDuck.removePointRebuild!(sampleQTree, rmc, true) \n",
    "end"
   ]
  }
 ],
 "metadata": {
  "kernelspec": {
   "display_name": "Julia 1.4.0",
   "language": "julia",
   "name": "julia-1.4"
  },
  "language_info": {
   "file_extension": ".jl",
   "mimetype": "application/julia",
   "name": "julia",
   "version": "1.4.0"
  }
 },
 "nbformat": 4,
 "nbformat_minor": 2
}
