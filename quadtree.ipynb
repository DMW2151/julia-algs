{
 "cells": [
  {
   "cell_type": "markdown",
   "metadata": {},
   "source": [
    "#  Usage/Benchmark Tests\n",
    "-------------------\n"
   ]
  },
  {
   "cell_type": "code",
   "execution_count": 1,
   "metadata": {},
   "outputs": [
    {
     "name": "stderr",
     "output_type": "stream",
     "text": [
      "┌ Info: Precompiling DarkWingDuck [top-level]\n",
      "└ @ Base loading.jl:1260\n"
     ]
    },
    {
     "data": {
      "text/plain": [
       "DarkWingDuck"
      ]
     },
     "execution_count": 1,
     "metadata": {},
     "output_type": "execute_result"
    }
   ],
   "source": [
    "# Load Params \n",
    "using BenchmarkTools\n",
    "\n",
    "push!(LOAD_PATH, \"$(pwd())/src\"); using DarkWingDuck;\n",
    "const dwd = DarkWingDuck"
   ]
  },
  {
   "cell_type": "code",
   "execution_count": 3,
   "metadata": {},
   "outputs": [
    {
     "data": {
      "text/plain": [
       "genRandomCoords"
      ]
     },
     "execution_count": 3,
     "metadata": {},
     "output_type": "execute_result"
    }
   ],
   "source": [
    "\"\"\"Generate uniform random points along a surface\"\"\"\n",
    "function genRandomCoords(x0::Float64, x1::Float64, y0::Float64, y1::Float64, n::Int)::Array{dwd.Coord}\n",
    "    X = ((ones(n) * x0) + (rand(n) * (x1 - x0))) \n",
    "    Y = ((ones(n) * y0) + (rand(n) * (y1 - y0)))\n",
    "    return [dwd.Coord(x, y) for (x,y) in zip(X,Y)]\n",
    "end"
   ]
  },
  {
   "cell_type": "code",
   "execution_count": 4,
   "metadata": {},
   "outputs": [
    {
     "name": "stdout",
     "output_type": "stream",
     "text": [
      "  0.817142 seconds (11.45 M allocations: 369.165 MiB, 12.73% gc time)\n"
     ]
    }
   ],
   "source": [
    "const QT_TEST_SIZE = 500_000\n",
    "\n",
    "## Inserts - Tree Build\n",
    "ps = genRandomCoords(0., 1., 0., 1., QT_TEST_SIZE);\n",
    "\n",
    "#TODO: constructor should take anyFloat\n",
    "sampleQTree = dwd.qtBox(dwd.Coord(.0, .0), 1.)\n",
    "\n",
    "@time for p in ps \n",
    "    dwd.insertIntoQuadTree!(sampleQTree, p)\n",
    "end"
   ]
  },
  {
   "cell_type": "code",
   "execution_count": 5,
   "metadata": {},
   "outputs": [
    {
     "data": {
      "text/plain": [
       "BenchmarkTools.Trial: \n",
       "  memory estimate:  8.19 KiB\n",
       "  allocs estimate:  163\n",
       "  --------------\n",
       "  minimum time:     8.370 μs (0.00% GC)\n",
       "  median time:      2.409 ms (0.00% GC)\n",
       "  mean time:        4.492 ms (14.10% GC)\n",
       "  maximum time:     24.209 ms (16.25% GC)\n",
       "  --------------\n",
       "  samples:          1106\n",
       "  evals/sample:     1"
      ]
     },
     "execution_count": 5,
     "metadata": {},
     "output_type": "execute_result"
    }
   ],
   "source": [
    "@benchmark dwd.queryRange(sampleQTree, dwd.Box(dwd.Coord(rand() , rand()), rand()/2))"
   ]
  },
  {
   "cell_type": "code",
   "execution_count": 6,
   "metadata": {},
   "outputs": [
    {
     "data": {
      "text/plain": [
       "BenchmarkTools.Trial: \n",
       "  memory estimate:  164.95 MiB\n",
       "  allocs estimate:  472566\n",
       "  --------------\n",
       "  minimum time:     114.034 ms (10.48% GC)\n",
       "  median time:      128.321 ms (11.02% GC)\n",
       "  mean time:        150.149 ms (26.80% GC)\n",
       "  maximum time:     230.383 ms (49.22% GC)\n",
       "  --------------\n",
       "  samples:          34\n",
       "  evals/sample:     1"
      ]
     },
     "execution_count": 6,
     "metadata": {},
     "output_type": "execute_result"
    }
   ],
   "source": [
    "#Test in kilometers, 5km ~0.045 on a flat plane\n",
    "@benchmark DarkWingDuck.radialSearch(sampleQTree, dwd.Coord(rand(), rand()), Float32(5.))"
   ]
  }
 ],
 "metadata": {
  "kernelspec": {
   "display_name": "Julia 1.4.0",
   "language": "julia",
   "name": "julia-1.4"
  },
  "language_info": {
   "file_extension": ".jl",
   "mimetype": "application/julia",
   "name": "julia",
   "version": "1.4.0"
  }
 },
 "nbformat": 4,
 "nbformat_minor": 2
}
