{
 "cells": [
  {
   "cell_type": "markdown",
   "metadata": {},
   "source": [
    "#  Usage/Benchmark Tests\n",
    "-------------------\n"
   ]
  },
  {
   "cell_type": "code",
   "execution_count": 1,
   "metadata": {},
   "outputs": [
    {
     "name": "stderr",
     "output_type": "stream",
     "text": [
      "┌ Info: Precompiling DarkWingDuck [top-level]\n",
      "└ @ Base loading.jl:1260\n"
     ]
    },
    {
     "data": {
      "text/plain": [
       "DarkWingDuck"
      ]
     },
     "execution_count": 1,
     "metadata": {},
     "output_type": "execute_result"
    }
   ],
   "source": [
    "# Load Params \n",
    "using BenchmarkTools\n",
    "\n",
    "push!(LOAD_PATH, \"$(pwd())/src\"); using DarkWingDuck;\n",
    "const dwd = DarkWingDuck"
   ]
  },
  {
   "cell_type": "code",
   "execution_count": 2,
   "metadata": {},
   "outputs": [
    {
     "data": {
      "text/plain": [
       "genRandomCoords"
      ]
     },
     "execution_count": 2,
     "metadata": {},
     "output_type": "execute_result"
    }
   ],
   "source": [
    "\"\"\"Generate uniform random points along a surface\"\"\"\n",
    "function genRandomCoords(x0::Float64, x1::Float64, y0::Float64, y1::Float64, n::Int)::Array{dwd.Coord}\n",
    "    X = ((ones(n) * x0) + (rand(n) * (x1 - x0))) \n",
    "    Y = ((ones(n) * y0) + (rand(n) * (y1 - y0)))\n",
    "    return [dwd.Coord(x, y) for (x,y) in zip(X,Y)]\n",
    "end"
   ]
  },
  {
   "cell_type": "code",
   "execution_count": 6,
   "metadata": {},
   "outputs": [
    {
     "name": "stdout",
     "output_type": "stream",
     "text": [
      "  0.830382 seconds (11.43 M allocations: 368.550 MiB, 12.88% gc time)\n"
     ]
    }
   ],
   "source": [
    "const QT_TEST_SIZE, QT_TEST_RM_SIZE = 500_000, 100_000\n",
    "\n",
    "## Inserts - Tree Build\n",
    "ps = genRandomCoords(0., 1., 0., 1., QT_TEST_SIZE);\n",
    "\n",
    "#TODO: constructor should take anyFloat\n",
    "sampleQTree = dwd.qtBox(dwd.Coord(.0, .0), 1.)\n",
    "\n",
    "@time for p in ps \n",
    "    dwd.insertIntoQuadTree!(sampleQTree, p)\n",
    "end"
   ]
  },
  {
   "cell_type": "code",
   "execution_count": 4,
   "metadata": {},
   "outputs": [
    {
     "data": {
      "text/plain": [
       "BenchmarkTools.Trial: \n",
       "  memory estimate:  4.09 KiB\n",
       "  allocs estimate:  68\n",
       "  --------------\n",
       "  minimum time:     3.092 μs (0.00% GC)\n",
       "  median time:      76.726 μs (0.00% GC)\n",
       "  mean time:        129.462 μs (5.35% GC)\n",
       "  maximum time:     2.483 ms (84.88% GC)\n",
       "  --------------\n",
       "  samples:          10000\n",
       "  evals/sample:     1"
      ]
     },
     "execution_count": 4,
     "metadata": {},
     "output_type": "execute_result"
    }
   ],
   "source": [
    "@benchmark dwd.queryRange(sampleQTree, dwd.Box(dwd.Coord(rand() , rand()), rand()/2))"
   ]
  },
  {
   "cell_type": "code",
   "execution_count": 4,
   "metadata": {},
   "outputs": [
    {
     "data": {
      "text/plain": [
       "BenchmarkTools.Trial: \n",
       "  memory estimate:  160.27 MiB\n",
       "  allocs estimate:  470183\n",
       "  --------------\n",
       "  minimum time:     111.309 ms (9.51% GC)\n",
       "  median time:      116.132 ms (11.37% GC)\n",
       "  mean time:        131.018 ms (20.85% GC)\n",
       "  maximum time:     268.249 ms (59.76% GC)\n",
       "  --------------\n",
       "  samples:          39\n",
       "  evals/sample:     1"
      ]
     },
     "execution_count": 4,
     "metadata": {},
     "output_type": "execute_result"
    }
   ],
   "source": [
    "#Test in kilometers, 5km ~0.045 on a flat plane\n",
    "@benchmark DarkWingDuck.radialSearch(sampleQTree, dwd.Coord(rand(), rand()), Float32(5.))"
   ]
  },
  {
   "cell_type": "code",
   "execution_count": 7,
   "metadata": {},
   "outputs": [],
   "source": [
    "# Oyy, Benchmarking function!() is pretty expensive, but passing Modify == false is ~3-4x quicker,\n",
    "removeCoords = ps[map(x -> Int64(floor(x + 1)), rand(QT_TEST_RM_SIZE) * QT_TEST_RM_SIZE)]\n",
    "@benchmark (for rmc in removeCoords dwd.removePointRebuild!(sampleQTree, rmc, true) end)"
   ]
  }
 ],
 "metadata": {
  "kernelspec": {
   "display_name": "Julia 1.4.0",
   "language": "julia",
   "name": "julia-1.4"
  },
  "language_info": {
   "file_extension": ".jl",
   "mimetype": "application/julia",
   "name": "julia",
   "version": "1.4.0"
  }
 },
 "nbformat": 4,
 "nbformat_minor": 2
}
