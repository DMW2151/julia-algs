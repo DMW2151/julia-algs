{
 "cells": [
  {
   "cell_type": "markdown",
   "metadata": {},
   "source": [
    "#  Usage/Benchmark Tests\n",
    "-------------------\n"
   ]
  },
  {
   "cell_type": "code",
   "execution_count": 1,
   "metadata": {},
   "outputs": [],
   "source": [
    "# Load Params \n",
    "using BenchmarkTools\n",
    "using Quack;\n",
    "using Profile\n",
    "const Qtrees = Quack;"
   ]
  },
  {
   "cell_type": "code",
   "execution_count": 2,
   "metadata": {},
   "outputs": [
    {
     "name": "stdout",
     "output_type": "stream",
     "text": [
      "  1.146853 seconds (12.79 M allocations: 461.479 MiB, 24.70% gc time)\n"
     ]
    }
   ],
   "source": [
    "const QT_TEST_SIZE, RM_TEST_SIZE = 500_000, 150_000\n",
    "\n",
    "## Inserts - Tree Build\n",
    "ps = Qtrees.genRandomCoords(0., 1., 0., 1., QT_TEST_SIZE);\n",
    "sampleQTree = Qtrees.qtBox(Qtrees.Coord(.0, .0), 1.)\n",
    "@time (for p in ps Qtrees.insertIntoQuadTree!(sampleQTree, p) end)"
   ]
  },
  {
   "cell_type": "code",
   "execution_count": 3,
   "metadata": {},
   "outputs": [
    {
     "name": "stdout",
     "output_type": "stream",
     "text": [
      "Total Obj Size: 45.023584 MB\n"
     ]
    }
   ],
   "source": [
    "println(\"Total Obj Size: $(Base.summarysize(sampleQTree) / 1000000 ) MB\")"
   ]
  },
  {
   "cell_type": "code",
   "execution_count": 4,
   "metadata": {},
   "outputs": [
    {
     "data": {
      "text/plain": [
       "BenchmarkTools.Trial: \n",
       "  memory estimate:  15.14 KiB\n",
       "  allocs estimate:  240\n",
       "  --------------\n",
       "  minimum time:     16.539 μs (0.00% GC)\n",
       "  median time:      5.797 ms (0.00% GC)\n",
       "  mean time:        10.749 ms (10.74% GC)\n",
       "  maximum time:     51.398 ms (10.02% GC)\n",
       "  --------------\n",
       "  samples:          464\n",
       "  evals/sample:     1"
      ]
     },
     "execution_count": 4,
     "metadata": {},
     "output_type": "execute_result"
    }
   ],
   "source": [
    "@benchmark Qtrees.queryRange(sampleQTree, Qtrees.Box(Qtrees.Coord(rand() , rand()), rand()/2))"
   ]
  },
  {
   "cell_type": "code",
   "execution_count": 5,
   "metadata": {
    "scrolled": false
   },
   "outputs": [
    {
     "data": {
      "text/plain": [
       "BenchmarkTools.Trial: \n",
       "  memory estimate:  104.80 MiB\n",
       "  allocs estimate:  1130834\n",
       "  --------------\n",
       "  minimum time:     133.985 ms (2.53% GC)\n",
       "  median time:      141.813 ms (2.46% GC)\n",
       "  mean time:        142.150 ms (2.80% GC)\n",
       "  maximum time:     150.921 ms (4.18% GC)\n",
       "  --------------\n",
       "  samples:          36\n",
       "  evals/sample:     1"
      ]
     },
     "execution_count": 5,
     "metadata": {},
     "output_type": "execute_result"
    }
   ],
   "source": [
    "#Test in kilometers, 5km ~0.045 units on a flat plane\n",
    "c = Quack.Coord(0.5, 0.5)\n",
    "@benchmark Qtrees.radialSearch(sampleQTree, c, 5.)"
   ]
  },
  {
   "cell_type": "code",
   "execution_count": 6,
   "metadata": {},
   "outputs": [
    {
     "name": "stdout",
     "output_type": "stream",
     "text": [
      "  0.994772 seconds (9.28 M allocations: 421.947 MiB, 3.89% gc time)\n"
     ]
    }
   ],
   "source": [
    "# Oyy...function modifies the structure, use @time instead of benchmark\n",
    "@time (for i in 1:RM_TEST_SIZE Qtrees.removePoint!(sampleQTree, ps[rand(1:QT_TEST_SIZE)]) end)"
   ]
  },
  {
   "cell_type": "code",
   "execution_count": 7,
   "metadata": {},
   "outputs": [
    {
     "name": "stdout",
     "output_type": "stream",
     "text": [
      "Total Obj Size: 40.879584 MB\n",
      "Total Point Count: 370500\n"
     ]
    }
   ],
   "source": [
    "println(\"Total Obj Size: $(Base.summarysize(sampleQTree) / 1000000 ) MB\")\n",
    "println(\"Total Point Count: $(length(Qtrees.queryRange(sampleQTree, Qtrees.Box(Qtrees.Coord(0. , 0.), 1))))\")"
   ]
  },
  {
   "cell_type": "code",
   "execution_count": 8,
   "metadata": {},
   "outputs": [
    {
     "name": "stdout",
     "output_type": "stream",
     "text": [
      "  0.079438 seconds (339.03 k allocations: 12.009 MiB)\n"
     ]
    },
    {
     "data": {
      "text/plain": [
       "true"
      ]
     },
     "execution_count": 8,
     "metadata": {},
     "output_type": "execute_result"
    }
   ],
   "source": [
    "@time Qtrees.cleanUpQTree(sampleQTree)"
   ]
  },
  {
   "cell_type": "code",
   "execution_count": 9,
   "metadata": {},
   "outputs": [
    {
     "name": "stdout",
     "output_type": "stream",
     "text": [
      "Total Obj Size: 39.802176 MB\n",
      "Total Point Count: 370500\n"
     ]
    }
   ],
   "source": [
    "println(\"Total Obj Size: $(Base.summarysize(sampleQTree) / 1000000 ) MB\")\n",
    "println(\"Total Point Count: $(length(Qtrees.queryRange(sampleQTree, Qtrees.Box(Qtrees.Coord(0. , 0.), 1))))\")"
   ]
  }
 ],
 "metadata": {
  "kernelspec": {
   "display_name": "Julia 1.4.0",
   "language": "julia",
   "name": "julia-1.4"
  },
  "language_info": {
   "file_extension": ".jl",
   "mimetype": "application/julia",
   "name": "julia",
   "version": "1.4.0"
  }
 },
 "nbformat": 4,
 "nbformat_minor": 2
}
