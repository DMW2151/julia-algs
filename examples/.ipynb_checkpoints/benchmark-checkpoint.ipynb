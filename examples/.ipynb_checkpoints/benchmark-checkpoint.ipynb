{
 "cells": [
  {
   "cell_type": "markdown",
   "metadata": {},
   "source": [
    "#  Usage/Benchmark Tests\n",
    "-------------------\n"
   ]
  },
  {
   "cell_type": "code",
   "execution_count": 8,
   "metadata": {},
   "outputs": [],
   "source": [
    "# Load Params \n",
    "using BenchmarkTools\n",
    "using Quack;\n",
    "const Qtrees = Quack;"
   ]
  },
  {
   "cell_type": "code",
   "execution_count": 9,
   "metadata": {},
   "outputs": [
    {
     "name": "stdout",
     "output_type": "stream",
     "text": [
      "  2.696393 seconds (26.54 M allocations: 943.080 MiB, 22.73% gc time)\n"
     ]
    }
   ],
   "source": [
    "const QT_TEST_SIZE, RM_TEST_SIZE = 1_000_000, 1_000\n",
    "\n",
    "## Inserts - Tree Build\n",
    "ps = Qtrees.genRandomCoords(0., 1., 0., 1., QT_TEST_SIZE);\n",
    "\n",
    "#TODO: constructor should take anyFloat\n",
    "sampleQTree = Qtrees.qtBox(Qtrees.Coord(.0, .0), 1.)\n",
    "\n",
    "@time (for p in ps Qtrees.insertIntoQuadTree!(sampleQTree, p) end)"
   ]
  },
  {
   "cell_type": "code",
   "execution_count": 10,
   "metadata": {},
   "outputs": [
    {
     "name": "stdout",
     "output_type": "stream",
     "text": [
      "Total Obj Size: 81.643504 MB\n"
     ]
    }
   ],
   "source": [
    "println(\"Total Obj Size: $(Base.summarysize(sampleQTree) / 1000000 ) MB\")"
   ]
  },
  {
   "cell_type": "code",
   "execution_count": 11,
   "metadata": {},
   "outputs": [
    {
     "data": {
      "text/plain": [
       "BenchmarkTools.Trial: \n",
       "  memory estimate:  10.08 KiB\n",
       "  allocs estimate:  158\n",
       "  --------------\n",
       "  minimum time:     11.459 μs (0.00% GC)\n",
       "  median time:      12.264 ms (0.00% GC)\n",
       "  mean time:        22.625 ms (11.75% GC)\n",
       "  maximum time:     106.682 ms (10.67% GC)\n",
       "  --------------\n",
       "  samples:          223\n",
       "  evals/sample:     1"
      ]
     },
     "execution_count": 11,
     "metadata": {},
     "output_type": "execute_result"
    }
   ],
   "source": [
    "@benchmark Qtrees.queryRange(sampleQTree, Qtrees.Box(Qtrees.Coord(rand() , rand()), rand()/2))"
   ]
  },
  {
   "cell_type": "code",
   "execution_count": 12,
   "metadata": {},
   "outputs": [
    {
     "data": {
      "text/plain": [
       "BenchmarkTools.Trial: \n",
       "  memory estimate:  711.91 MiB\n",
       "  allocs estimate:  2022832\n",
       "  --------------\n",
       "  minimum time:     524.630 ms (8.44% GC)\n",
       "  median time:      543.574 ms (10.11% GC)\n",
       "  mean time:        589.023 ms (17.09% GC)\n",
       "  maximum time:     743.440 ms (32.68% GC)\n",
       "  --------------\n",
       "  samples:          9\n",
       "  evals/sample:     1"
      ]
     },
     "execution_count": 12,
     "metadata": {},
     "output_type": "execute_result"
    }
   ],
   "source": [
    "#Test in kilometers, 5km ~0.045 on a flat plane\n",
    "@benchmark Qtrees.radialSearch(sampleQTree, Qtrees.Coord(rand(), rand()), Float32(5.))"
   ]
  },
  {
   "cell_type": "code",
   "execution_count": 13,
   "metadata": {},
   "outputs": [
    {
     "name": "stdout",
     "output_type": "stream",
     "text": [
      "  0.063266 seconds (212.46 k allocations: 10.650 MiB)\n"
     ]
    }
   ],
   "source": [
    "# Oyy...function modifies the structure, use @time instead of benchmark\n",
    "@time (for i in 1:RM_TEST_SIZE Qtrees.removePoint!(sampleQTree, ps[rand(1:QT_TEST_SIZE)]) end)"
   ]
  },
  {
   "cell_type": "code",
   "execution_count": null,
   "metadata": {},
   "outputs": [],
   "source": [
    "println(\"Total Obj Size: $(Base.summarysize(sampleQTree) / 1000000 ) MB\")\n",
    "println(\"Total Point Count: $(length(Qtrees.queryRange(sampleQTree, Qtrees.Box(Qtrees.Coord(0. , 0.), 1))))\")"
   ]
  },
  {
   "cell_type": "code",
   "execution_count": null,
   "metadata": {},
   "outputs": [],
   "source": [
    "@time Qtrees.cleanUpQTree(sampleQTree)"
   ]
  },
  {
   "cell_type": "code",
   "execution_count": null,
   "metadata": {},
   "outputs": [],
   "source": [
    "println(\"Total Obj Size: $(Base.summarysize(sampleQTree) / 1000000 ) MB\")\n",
    "println(\"Total Point Count: $(length(Qtrees.queryRange(sampleQTree, Qtrees.Box(Qtrees.Coord(0. , 0.), 1))))\")"
   ]
  }
 ],
 "metadata": {
  "kernelspec": {
   "display_name": "Julia 1.4.0",
   "language": "julia",
   "name": "julia-1.4"
  },
  "language_info": {
   "file_extension": ".jl",
   "mimetype": "application/julia",
   "name": "julia",
   "version": "1.4.0"
  }
 },
 "nbformat": 4,
 "nbformat_minor": 2
}
