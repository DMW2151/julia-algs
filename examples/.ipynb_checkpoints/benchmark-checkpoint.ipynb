{
 "cells": [
  {
   "cell_type": "markdown",
   "metadata": {},
   "source": [
    "#  Usage/Benchmark Tests\n",
    "-------------------\n"
   ]
  },
  {
   "cell_type": "code",
   "execution_count": 1,
   "metadata": {},
   "outputs": [
    {
     "name": "stderr",
     "output_type": "stream",
     "text": [
      "┌ Info: Precompiling Quack [332d158b-1d50-4650-beb3-f7fe5de64c74]\n",
      "└ @ Base loading.jl:1260\n"
     ]
    }
   ],
   "source": [
    "# Deps\n",
    "using CSV\n",
    "using BenchmarkTools\n",
    "using Quack;\n",
    "using Profile"
   ]
  },
  {
   "cell_type": "markdown",
   "metadata": {},
   "source": [
    "## Testing on 1.0M Random Points \n",
    "...And then removing 150,000 and reindexing the QTree"
   ]
  },
  {
   "cell_type": "code",
   "execution_count": 3,
   "metadata": {},
   "outputs": [
    {
     "name": "stdout",
     "output_type": "stream",
     "text": [
      "  2.684615 seconds (26.54 M allocations: 943.413 MiB, 21.77% gc time)\n"
     ]
    }
   ],
   "source": [
    "const QT_TEST_SIZE, RM_TEST_SIZE = 1_000_000, 150_000\n",
    "\n",
    "## Inserts - Tree Build\n",
    "ps = Quack.genRandomCoords(0., 1., 0., 1., QT_TEST_SIZE);\n",
    "\n",
    "sampleQTree = Quack.qtBox(Quack.Coord(.0, .0), 1.)\n",
    "@time (for p in ps Quack.insertIntoQuadTree!(sampleQTree, p) end)"
   ]
  },
  {
   "cell_type": "code",
   "execution_count": 3,
   "metadata": {},
   "outputs": [
    {
     "name": "stdout",
     "output_type": "stream",
     "text": [
      "Total Obj Size: 81.672808 MB\n"
     ]
    }
   ],
   "source": [
    "println(\"Total Obj Size: $(Base.summarysize(sampleQTree) / 1000000 ) MB\")"
   ]
  },
  {
   "cell_type": "code",
   "execution_count": 4,
   "metadata": {},
   "outputs": [
    {
     "data": {
      "text/plain": [
       "BenchmarkTools.Trial: \n",
       "  memory estimate:  14.20 KiB\n",
       "  allocs estimate:  218\n",
       "  --------------\n",
       "  minimum time:     20.943 μs (0.00% GC)\n",
       "  median time:      12.020 ms (0.00% GC)\n",
       "  mean time:        22.095 ms (11.63% GC)\n",
       "  maximum time:     106.790 ms (9.46% GC)\n",
       "  --------------\n",
       "  samples:          226\n",
       "  evals/sample:     1"
      ]
     },
     "execution_count": 4,
     "metadata": {},
     "output_type": "execute_result"
    }
   ],
   "source": [
    "@benchmark Quack.queryRange(sampleQTree, Quack.Box(Quack.Coord(rand() , rand()), rand()/2))"
   ]
  },
  {
   "cell_type": "code",
   "execution_count": 6,
   "metadata": {
    "scrolled": false
   },
   "outputs": [
    {
     "data": {
      "text/plain": [
       "BenchmarkTools.Trial: \n",
       "  memory estimate:  217.16 MiB\n",
       "  allocs estimate:  2412831\n",
       "  --------------\n",
       "  minimum time:     300.111 ms (4.09% GC)\n",
       "  median time:      339.810 ms (4.48% GC)\n",
       "  mean time:        344.660 ms (4.34% GC)\n",
       "  maximum time:     371.899 ms (3.13% GC)\n",
       "  --------------\n",
       "  samples:          15\n",
       "  evals/sample:     1"
      ]
     },
     "execution_count": 6,
     "metadata": {},
     "output_type": "execute_result"
    }
   ],
   "source": [
    "# Test in kilometers (Rand between 10-20km) \n",
    "@benchmark Quack.radialSearch(sampleQTree, Quack.Coord(rand(), rand()), (1 + rand()) * 10)"
   ]
  },
  {
   "cell_type": "code",
   "execution_count": 7,
   "metadata": {},
   "outputs": [
    {
     "name": "stdout",
     "output_type": "stream",
     "text": [
      "  1.646411 seconds (11.66 M allocations: 544.880 MiB, 6.11% gc time)\n"
     ]
    }
   ],
   "source": [
    "# Use @time instead of @benchmark so as to not compound the side effect...\n",
    "@time (for i in 1:RM_TEST_SIZE Quack.removePoint!(sampleQTree, ps[rand(1:QT_TEST_SIZE)]) end)"
   ]
  },
  {
   "cell_type": "code",
   "execution_count": 8,
   "metadata": {},
   "outputs": [
    {
     "name": "stdout",
     "output_type": "stream",
     "text": [
      "Total Obj Size: 77.216776 MB\n",
      "Total Point Count: 860749\n"
     ]
    }
   ],
   "source": [
    "println(\"Total Obj Size: $(Base.summarysize(sampleQTree) / 1000000 ) MB\")\n",
    "println(\"Total Point Count: $(length(Quack.queryRange(sampleQTree, Quack.Box(Quack.Coord(0. , 0.), 1))))\")"
   ]
  },
  {
   "cell_type": "code",
   "execution_count": 10,
   "metadata": {},
   "outputs": [
    {
     "ename": "ArgumentError",
     "evalue": "ArgumentError: reducing over an empty collection is not allowed",
     "output_type": "error",
     "traceback": [
      "ArgumentError: reducing over an empty collection is not allowed",
      "",
      "Stacktrace:",
      " [1] _empty_reduce_error() at ./reduce.jl:295",
      " [2] mapreduce_empty(::Function, ::Function, ::Type{T} where T) at ./reduce.jl:334",
      " [3] _mapreduce(::Quack.var\"#9#10\", ::typeof(Base.add_sum), ::IndexLinear, ::Array{Quack.qtBox,1}) at ./reduce.jl:392",
      " [4] _mapreduce_dim at ./reducedim.jl:312 [inlined]",
      " [5] #mapreduce#580 at ./reducedim.jl:307 [inlined]",
      " [6] mapreduce at ./reducedim.jl:307 [inlined]",
      " [7] _sum at ./reducedim.jl:657 [inlined]",
      " [8] #sum#584 at ./reducedim.jl:653 [inlined]",
      " [9] sum at ./reducedim.jl:653 [inlined]",
      " [10] childrenEmpty(::Array{Quack.qtBox,1}) at /Users/dustinwilson/Desktop/Quack/src/Quack.jl:189",
      " [11] cleanUpQTree(::Quack.qtBox) at /Users/dustinwilson/Desktop/Quack/src/Quack.jl:205",
      " [12] cleanUpQTree(::Quack.qtBox) at /Users/dustinwilson/Desktop/Quack/src/Quack.jl:212 (repeats 9 times)",
      " [13] macro expansion at ./util.jl:175 [inlined]",
      " [14] top-level scope at ./In[10]:1"
     ]
    }
   ],
   "source": [
    "# Cleanup/Reinded the QTree - Remove unused Nodes\n",
    "@time Quack.cleanUpQTree(sampleQTree)"
   ]
  },
  {
   "cell_type": "code",
   "execution_count": 11,
   "metadata": {},
   "outputs": [
    {
     "name": "stdout",
     "output_type": "stream",
     "text": [
      "Total Obj Size: 76.428128 MB\n",
      "Total Point Count: 860749\n"
     ]
    }
   ],
   "source": [
    "println(\"Total Obj Size: $(Base.summarysize(sampleQTree) / 1000000 ) MB\")\n",
    "println(\"Total Point Count: $(length(Quack.queryRange(sampleQTree, Quack.Box(Quack.Coord(0. , 0.), 1))))\")"
   ]
  },
  {
   "cell_type": "markdown",
   "metadata": {},
   "source": [
    "### Test on \"Real\" Data"
   ]
  },
  {
   "cell_type": "code",
   "execution_count": 2,
   "metadata": {},
   "outputs": [],
   "source": [
    "# Read data && generate coords\n",
    "f = CSV.read(\"./data/FL_insurance_sample.csv\");\n",
    "\n",
    "samplePoint = Quack.Coord(-82.452606, 27.964157) # 27.964157, -82.452606\n",
    "\n",
    "ps = [Quack.Coord(x, y) for (x,y) in zip(f[:, :point_longitude], f[:, :point_latitude])];"
   ]
  },
  {
   "cell_type": "code",
   "execution_count": 5,
   "metadata": {},
   "outputs": [
    {
     "data": {
      "text/plain": [
       "BenchmarkTools.Trial: \n",
       "  memory estimate:  1.12 MiB\n",
       "  allocs estimate:  3\n",
       "  --------------\n",
       "  minimum time:     2.678 ms (0.00% GC)\n",
       "  median time:      2.870 ms (0.00% GC)\n",
       "  mean time:        2.969 ms (0.47% GC)\n",
       "  maximum time:     5.197 ms (22.57% GC)\n",
       "  --------------\n",
       "  samples:          1682\n",
       "  evals/sample:     1"
      ]
     },
     "execution_count": 5,
     "metadata": {},
     "output_type": "execute_result"
    }
   ],
   "source": [
    "# Benchmark against raw calculation...\n",
    "@benchmark filter(p -> p = Quack.haversineDistance(p, samplePoint) < 5, ps)"
   ]
  },
  {
   "cell_type": "code",
   "execution_count": 3,
   "metadata": {},
   "outputs": [
    {
     "name": "stdout",
     "output_type": "stream",
     "text": [
      "  0.072434 seconds (1.06 M allocations: 37.539 MiB, 16.05% gc time)\n"
     ]
    }
   ],
   "source": [
    "# prep radialSearch implementation...\n",
    "lngLow, lngHigh = minimum(f[:, :point_longitude]), maximum(f[:, :point_longitude]);\n",
    "latLow, latHigh = minimum(f[:, :point_latitude]), maximum(f[:, :point_latitude]);\n",
    "\n",
    "minSideLength = maximum([lngHigh - lngLow, latHigh - latLow])\n",
    "\n",
    "startCoord = Quack.Coord(lngLow, latLow)\n",
    "\n",
    "epsilon = 1/1000\n",
    "sampleQTree = Quack.qtBox(startCoord, minSideLength + epsilon)\n",
    "@time (for p in ps Quack.insertIntoQuadTree!(sampleQTree, p) end)"
   ]
  },
  {
   "cell_type": "code",
   "execution_count": 4,
   "metadata": {},
   "outputs": [
    {
     "data": {
      "text/plain": [
       "BenchmarkTools.Trial: \n",
       "  memory estimate:  14.14 KiB\n",
       "  allocs estimate:  141\n",
       "  --------------\n",
       "  minimum time:     17.337 μs (0.00% GC)\n",
       "  median time:      18.264 μs (0.00% GC)\n",
       "  mean time:        20.852 μs (4.29% GC)\n",
       "  maximum time:     3.268 ms (99.31% GC)\n",
       "  --------------\n",
       "  samples:          10000\n",
       "  evals/sample:     1"
      ]
     },
     "execution_count": 4,
     "metadata": {},
     "output_type": "execute_result"
    }
   ],
   "source": [
    "# Check radialSearch implementation; not yet complete...\n",
    "@benchmark Quack.radialSearch(sampleQTree, samplePoint, 5.)"
   ]
  }
 ],
 "metadata": {
  "kernelspec": {
   "display_name": "Julia 1.4.0",
   "language": "julia",
   "name": "julia-1.4"
  },
  "language_info": {
   "file_extension": ".jl",
   "mimetype": "application/julia",
   "name": "julia",
   "version": "1.4.0"
  }
 },
 "nbformat": 4,
 "nbformat_minor": 2
}
