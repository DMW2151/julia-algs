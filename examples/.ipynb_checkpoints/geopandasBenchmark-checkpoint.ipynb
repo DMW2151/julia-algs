{
 "cells": [
  {
   "cell_type": "markdown",
   "metadata": {},
   "source": [
    "## Benchmarking w. Shapely Geom"
   ]
  },
  {
   "cell_type": "code",
   "execution_count": 74,
   "metadata": {},
   "outputs": [],
   "source": [
    "import geopandas as gpd\n",
    "import pandas as pd\n",
    "import time\n",
    "from shapely.geometry import Point\n",
    "\n",
    "import sys"
   ]
  },
  {
   "cell_type": "code",
   "execution_count": 75,
   "metadata": {},
   "outputs": [],
   "source": [
    "def timeit(method):\n",
    "    \"\"\"Decorator for approx. timing functions \"\"\"\n",
    "    def timed(*args, **kw):\n",
    "        ts = time.time()\n",
    "        result = method(*args, **kw)\n",
    "        te = time.time()\n",
    "        print('%r  %2.2f ms' % (method.__name__, (te - ts) * 1000))\n",
    "        return result\n",
    "    return timed\n",
    "\n",
    "GPD_DATAPATH = \"./data/stanford-bx729wr3020-geojson.json\""
   ]
  },
  {
   "cell_type": "code",
   "execution_count": 76,
   "metadata": {},
   "outputs": [],
   "source": [
    "df = gpd.read_file(GPD_DATAPATH, crs=4326)\n",
    "df = df[['id', 'geometry']]"
   ]
  },
  {
   "cell_type": "code",
   "execution_count": 77,
   "metadata": {},
   "outputs": [
    {
     "name": "stdout",
     "output_type": "stream",
     "text": [
      "Total object Size 4.34225 MB\n",
      "Total observation count 38186 obs\n"
     ]
    }
   ],
   "source": [
    "print(f\"Total object Size {sys.getsizeof(df) / 1e6} MB\")\n",
    "print(f\"Total observation count {df.id.count()} obs\")"
   ]
  },
  {
   "cell_type": "code",
   "execution_count": 78,
   "metadata": {},
   "outputs": [],
   "source": [
    "# Apply distance function to dataframe\n",
    "check_latitude, check_longitude = 39.53, -119.81"
   ]
  },
  {
   "cell_type": "code",
   "execution_count": 79,
   "metadata": {},
   "outputs": [],
   "source": [
    "df2 = gpd.GeoDataFrame(\n",
    "    {'geometry': [Point(check_latitude, check_longitude)]}, crs={'init': 'epsg:4326'})\n",
    "\n",
    "df2[\"geometry\"] = df.buffer(1)"
   ]
  },
  {
   "cell_type": "code",
   "execution_count": 80,
   "metadata": {},
   "outputs": [
    {
     "name": "stdout",
     "output_type": "stream",
     "text": [
      "'spatial_join_wrapper'  1379.72 ms\n"
     ]
    }
   ],
   "source": [
    "@timeit\n",
    "def spatial_join_wrapper():\n",
    "    return gpd.sjoin(df, df2, how='inner', op='intersects', lsuffix='left', rsuffix='right')\n",
    "    \n",
    "f = spatial_join_wrapper()"
   ]
  }
 ],
 "metadata": {
  "kernelspec": {
   "display_name": "Python 3",
   "language": "python",
   "name": "python3"
  },
  "language_info": {
   "codemirror_mode": {
    "name": "ipython",
    "version": 3
   },
   "file_extension": ".py",
   "mimetype": "text/x-python",
   "name": "python",
   "nbconvert_exporter": "python",
   "pygments_lexer": "ipython3",
   "version": "3.7.3"
  }
 },
 "nbformat": 4,
 "nbformat_minor": 2
}
