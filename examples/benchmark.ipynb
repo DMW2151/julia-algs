{
 "cells": [
  {
   "cell_type": "markdown",
   "metadata": {},
   "source": [
    "#  Usage/Benchmark Tests\n",
    "-------------------\n"
   ]
  },
  {
   "cell_type": "code",
   "execution_count": 1,
   "metadata": {},
   "outputs": [
    {
     "name": "stderr",
     "output_type": "stream",
     "text": [
      "┌ Info: Precompiling Quack [332d158b-1d50-4650-beb3-f7fe5de64c74]\n",
      "└ @ Base loading.jl:1260\n"
     ]
    }
   ],
   "source": [
    "# Load Params \n",
    "using BenchmarkTools\n",
    "using Quack;\n",
    "const Qtrees = Quack;"
   ]
  },
  {
   "cell_type": "code",
   "execution_count": 2,
   "metadata": {},
   "outputs": [
    {
     "name": "stdout",
     "output_type": "stream",
     "text": [
      "  0.269544 seconds (2.27 M allocations: 83.172 MiB, 18.68% gc time)\n"
     ]
    }
   ],
   "source": [
    "const QT_TEST_SIZE, RM_TEST_SIZE = 100_000, 10_000\n",
    "\n",
    "## Inserts - Tree Build\n",
    "ps = Qtrees.genRandomCoords(0., 1., 0., 1., QT_TEST_SIZE);\n",
    "\n",
    "sampleQTree = Qtrees.qtBox(Qtrees.Coord(.0, .0), 1.)\n",
    "\n",
    "@time (for p in ps Qtrees.insertIntoQuadTree!(sampleQTree, p) end)"
   ]
  },
  {
   "cell_type": "code",
   "execution_count": 3,
   "metadata": {},
   "outputs": [
    {
     "name": "stdout",
     "output_type": "stream",
     "text": [
      "Total Obj Size: 8.836912 MB\n"
     ]
    }
   ],
   "source": [
    "println(\"Total Obj Size: $(Base.summarysize(sampleQTree) / 1000000 ) MB\")"
   ]
  },
  {
   "cell_type": "code",
   "execution_count": 4,
   "metadata": {},
   "outputs": [
    {
     "data": {
      "text/plain": [
       "BenchmarkTools.Trial: \n",
       "  memory estimate:  6.84 KiB\n",
       "  allocs estimate:  117\n",
       "  --------------\n",
       "  minimum time:     6.565 μs (0.00% GC)\n",
       "  median time:      974.638 μs (0.00% GC)\n",
       "  mean time:        1.765 ms (11.99% GC)\n",
       "  maximum time:     9.911 ms (26.90% GC)\n",
       "  --------------\n",
       "  samples:          2817\n",
       "  evals/sample:     1"
      ]
     },
     "execution_count": 4,
     "metadata": {},
     "output_type": "execute_result"
    }
   ],
   "source": [
    "@benchmark Qtrees.queryRange(sampleQTree, Qtrees.Box(Qtrees.Coord(rand() , rand()), rand()/2))"
   ]
  },
  {
   "cell_type": "code",
   "execution_count": 5,
   "metadata": {},
   "outputs": [
    {
     "data": {
      "text/plain": [
       "BenchmarkTools.Trial: \n",
       "  memory estimate:  73.78 MiB\n",
       "  allocs estimate:  230555\n",
       "  --------------\n",
       "  minimum time:     39.638 ms (7.74% GC)\n",
       "  median time:      43.700 ms (11.85% GC)\n",
       "  mean time:        43.556 ms (10.84% GC)\n",
       "  maximum time:     47.650 ms (14.58% GC)\n",
       "  --------------\n",
       "  samples:          115\n",
       "  evals/sample:     1"
      ]
     },
     "execution_count": 5,
     "metadata": {},
     "output_type": "execute_result"
    }
   ],
   "source": [
    "#Test in kilometers, 5km ~0.045 on a flat plane\n",
    "@benchmark Qtrees.radialSearch(sampleQTree, Qtrees.Coord(rand(), rand()), 5.)"
   ]
  },
  {
   "cell_type": "code",
   "execution_count": 6,
   "metadata": {},
   "outputs": [
    {
     "name": "stdout",
     "output_type": "stream",
     "text": [
      "  0.107169 seconds (668.26 k allocations: 31.616 MiB, 4.34% gc time)\n"
     ]
    }
   ],
   "source": [
    "# Oyy...function modifies the structure, use @time instead of benchmark\n",
    "@time (for i in 1:RM_TEST_SIZE Qtrees.removePoint!(sampleQTree, ps[rand(1:QT_TEST_SIZE)]) end)"
   ]
  },
  {
   "cell_type": "code",
   "execution_count": 7,
   "metadata": {},
   "outputs": [
    {
     "name": "stdout",
     "output_type": "stream",
     "text": [
      "Total Obj Size: 8.532592 MB\n",
      "Total Point Count: 90490\n"
     ]
    }
   ],
   "source": [
    "println(\"Total Obj Size: $(Base.summarysize(sampleQTree) / 1000000 ) MB\")\n",
    "println(\"Total Point Count: $(length(Qtrees.queryRange(sampleQTree, Qtrees.Box(Qtrees.Coord(0. , 0.), 1))))\")"
   ]
  },
  {
   "cell_type": "code",
   "execution_count": 8,
   "metadata": {},
   "outputs": [
    {
     "name": "stdout",
     "output_type": "stream",
     "text": [
      "  0.043623 seconds (115.94 k allocations: 4.906 MiB)\n"
     ]
    },
    {
     "data": {
      "text/plain": [
       "true"
      ]
     },
     "execution_count": 8,
     "metadata": {},
     "output_type": "execute_result"
    }
   ],
   "source": [
    "@time Qtrees.cleanUpQTree(sampleQTree)"
   ]
  },
  {
   "cell_type": "code",
   "execution_count": 9,
   "metadata": {},
   "outputs": [
    {
     "name": "stdout",
     "output_type": "stream",
     "text": [
      "Total Obj Size: 8.439816 MB\n",
      "Total Point Count: 90490\n"
     ]
    }
   ],
   "source": [
    "println(\"Total Obj Size: $(Base.summarysize(sampleQTree) / 1000000 ) MB\")\n",
    "println(\"Total Point Count: $(length(Qtrees.queryRange(sampleQTree, Qtrees.Box(Qtrees.Coord(0. , 0.), 1))))\")"
   ]
  }
 ],
 "metadata": {
  "kernelspec": {
   "display_name": "Julia 1.4.0",
   "language": "julia",
   "name": "julia-1.4"
  },
  "language_info": {
   "file_extension": ".jl",
   "mimetype": "application/julia",
   "name": "julia",
   "version": "1.4.0"
  }
 },
 "nbformat": 4,
 "nbformat_minor": 2
}
