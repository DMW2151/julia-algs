{
 "cells": [
  {
   "cell_type": "markdown",
   "metadata": {},
   "source": [
    "#  Usage/Benchmark Tests\n",
    "-------------------\n"
   ]
  },
  {
   "cell_type": "code",
   "execution_count": 1,
   "metadata": {},
   "outputs": [
    {
     "name": "stderr",
     "output_type": "stream",
     "text": [
      "┌ Info: Precompiling Quack [332d158b-1d50-4650-beb3-f7fe5de64c74]\n",
      "└ @ Base loading.jl:1260\n"
     ]
    }
   ],
   "source": [
    "# Load Params \n",
    "using BenchmarkTools\n",
    "using Quack;\n",
    "const Qtrees = Quack;"
   ]
  },
  {
   "cell_type": "code",
   "execution_count": 2,
   "metadata": {},
   "outputs": [
    {
     "name": "stdout",
     "output_type": "stream",
     "text": [
      "  0.267455 seconds (2.27 M allocations: 83.137 MiB, 42.29% gc time)\n"
     ]
    }
   ],
   "source": [
    "const QT_TEST_SIZE, RM_TEST_SIZE = 100_000, 10_000\n",
    "\n",
    "## Inserts - Tree Build\n",
    "ps = Qtrees.genRandomCoords(0., 1., 0., 1., QT_TEST_SIZE);\n",
    "\n",
    "sampleQTree = Qtrees.qtBox(Qtrees.Coord(.0, .0), 1.)\n",
    "\n",
    "@time (for p in ps Qtrees.insertIntoQuadTree!(sampleQTree, p) end)"
   ]
  },
  {
   "cell_type": "code",
   "execution_count": 3,
   "metadata": {},
   "outputs": [
    {
     "name": "stdout",
     "output_type": "stream",
     "text": [
      "Total Obj Size: 8.812488 MB\n"
     ]
    }
   ],
   "source": [
    "println(\"Total Obj Size: $(Base.summarysize(sampleQTree) / 1000000 ) MB\")"
   ]
  },
  {
   "cell_type": "code",
   "execution_count": 4,
   "metadata": {},
   "outputs": [
    {
     "data": {
      "text/plain": [
       "BenchmarkTools.Trial: \n",
       "  memory estimate:  6.84 KiB\n",
       "  allocs estimate:  117\n",
       "  --------------\n",
       "  minimum time:     6.332 μs (0.00% GC)\n",
       "  median time:      891.547 μs (0.00% GC)\n",
       "  mean time:        1.565 ms (9.90% GC)\n",
       "  maximum time:     15.501 ms (41.15% GC)\n",
       "  --------------\n",
       "  samples:          3177\n",
       "  evals/sample:     1"
      ]
     },
     "execution_count": 4,
     "metadata": {},
     "output_type": "execute_result"
    }
   ],
   "source": [
    "@benchmark Qtrees.queryRange(sampleQTree, Qtrees.Box(Qtrees.Coord(rand() , rand()), rand()/2))"
   ]
  },
  {
   "cell_type": "code",
   "execution_count": 10,
   "metadata": {},
   "outputs": [
    {
     "ename": "MethodError",
     "evalue": "MethodError: no method matching haversineDistance(::Base.UUID, ::Quack.Coord)\nClosest candidates are:\n  haversineDistance(!Matched::Quack.Coord, ::Quack.Coord) at /Users/dustinwilson/Desktop/Quack/src/Quack.jl:265",
     "output_type": "error",
     "traceback": [
      "MethodError: no method matching haversineDistance(::Base.UUID, ::Quack.Coord)\nClosest candidates are:\n  haversineDistance(!Matched::Quack.Coord, ::Quack.Coord) at /Users/dustinwilson/Desktop/Quack/src/Quack.jl:265",
      "",
      "Stacktrace:",
      " [1] (::Quack.var\"#11#12\"{Quack.Coord,Float64})(::Base.UUID) at /Users/dustinwilson/Desktop/Quack/src/Quack.jl:280",
      " [2] filter(::Quack.var\"#11#12\"{Quack.Coord,Float64}, ::Array{Base.UUID,1}) at ./array.jl:2374",
      " [3] radialSearch at /Users/dustinwilson/Desktop/Quack/src/Quack.jl:280 [inlined]",
      " [4] ##core#263() at /Users/dustinwilson/.julia/packages/BenchmarkTools/eCEpo/src/execution.jl:371",
      " [5] ##sample#264(::BenchmarkTools.Parameters) at /Users/dustinwilson/.julia/packages/BenchmarkTools/eCEpo/src/execution.jl:377",
      " [6] _run(::BenchmarkTools.Benchmark{Symbol(\"##benchmark#262\")}, ::BenchmarkTools.Parameters; verbose::Bool, pad::String, kwargs::Base.Iterators.Pairs{Symbol,Integer,NTuple{4,Symbol},NamedTuple{(:samples, :evals, :gctrial, :gcsample),Tuple{Int64,Int64,Bool,Bool}}}) at /Users/dustinwilson/.julia/packages/BenchmarkTools/eCEpo/src/execution.jl:405",
      " [7] (::Base.var\"#inner#2\"{Base.Iterators.Pairs{Symbol,Integer,NTuple{5,Symbol},NamedTuple{(:verbose, :samples, :evals, :gctrial, :gcsample),Tuple{Bool,Int64,Int64,Bool,Bool}}},typeof(BenchmarkTools._run),Tuple{BenchmarkTools.Benchmark{Symbol(\"##benchmark#262\")},BenchmarkTools.Parameters}})() at ./essentials.jl:715",
      " [8] #invokelatest#1 at ./essentials.jl:716 [inlined]",
      " [9] #run_result#37 at /Users/dustinwilson/.julia/packages/BenchmarkTools/eCEpo/src/execution.jl:32 [inlined]",
      " [10] run(::BenchmarkTools.Benchmark{Symbol(\"##benchmark#262\")}, ::BenchmarkTools.Parameters; progressid::Nothing, nleaves::Float64, ndone::Float64, kwargs::Base.Iterators.Pairs{Symbol,Integer,NTuple{5,Symbol},NamedTuple{(:verbose, :samples, :evals, :gctrial, :gcsample),Tuple{Bool,Int64,Int64,Bool,Bool}}}) at /Users/dustinwilson/.julia/packages/BenchmarkTools/eCEpo/src/execution.jl:94",
      " [11] #warmup#45 at /Users/dustinwilson/.julia/packages/BenchmarkTools/eCEpo/src/execution.jl:141 [inlined]",
      " [12] warmup(::BenchmarkTools.Benchmark{Symbol(\"##benchmark#262\")}) at /Users/dustinwilson/.julia/packages/BenchmarkTools/eCEpo/src/execution.jl:141",
      " [13] top-level scope at /Users/dustinwilson/.julia/packages/BenchmarkTools/eCEpo/src/execution.jl:287",
      " [14] top-level scope at In[10]:1"
     ]
    }
   ],
   "source": [
    "#Test in kilometers, 5km ~0.045 on a flat plane\n",
    "@benchmark Qtrees.radialSearch(sampleQTree, Qtrees.Coord(rand(), rand()), 5.)"
   ]
  },
  {
   "cell_type": "code",
   "execution_count": 6,
   "metadata": {},
   "outputs": [
    {
     "name": "stdout",
     "output_type": "stream",
     "text": [
      "  0.104252 seconds (666.75 k allocations: 31.680 MiB)\n"
     ]
    }
   ],
   "source": [
    "# Oyy...function modifies the structure, use @time instead of benchmark\n",
    "@time (for i in 1:RM_TEST_SIZE Qtrees.removePoint!(sampleQTree, ps[rand(1:QT_TEST_SIZE)]) end)"
   ]
  },
  {
   "cell_type": "code",
   "execution_count": 7,
   "metadata": {},
   "outputs": [
    {
     "name": "stdout",
     "output_type": "stream",
     "text": [
      "Total Obj Size: 8.5074 MB\n",
      "Total Point Count: 90466\n"
     ]
    }
   ],
   "source": [
    "println(\"Total Obj Size: $(Base.summarysize(sampleQTree) / 1000000 ) MB\")\n",
    "println(\"Total Point Count: $(length(Qtrees.queryRange(sampleQTree, Qtrees.Box(Qtrees.Coord(0. , 0.), 1))))\")"
   ]
  },
  {
   "cell_type": "code",
   "execution_count": 8,
   "metadata": {},
   "outputs": [
    {
     "name": "stdout",
     "output_type": "stream",
     "text": [
      "  0.040959 seconds (115.63 k allocations: 4.895 MiB)\n"
     ]
    },
    {
     "data": {
      "text/plain": [
       "true"
      ]
     },
     "execution_count": 8,
     "metadata": {},
     "output_type": "execute_result"
    }
   ],
   "source": [
    "@time Qtrees.cleanUpQTree(sampleQTree)"
   ]
  },
  {
   "cell_type": "code",
   "execution_count": 9,
   "metadata": {},
   "outputs": [
    {
     "name": "stdout",
     "output_type": "stream",
     "text": [
      "Total Obj Size: 8.421136 MB\n",
      "Total Point Count: 90466\n"
     ]
    }
   ],
   "source": [
    "println(\"Total Obj Size: $(Base.summarysize(sampleQTree) / 1000000 ) MB\")\n",
    "println(\"Total Point Count: $(length(Qtrees.queryRange(sampleQTree, Qtrees.Box(Qtrees.Coord(0. , 0.), 1))))\")"
   ]
  }
 ],
 "metadata": {
  "kernelspec": {
   "display_name": "Julia 1.4.0",
   "language": "julia",
   "name": "julia-1.4"
  },
  "language_info": {
   "file_extension": ".jl",
   "mimetype": "application/julia",
   "name": "julia",
   "version": "1.4.0"
  }
 },
 "nbformat": 4,
 "nbformat_minor": 2
}
